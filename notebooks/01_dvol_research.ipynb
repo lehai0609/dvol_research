{
 "cells": [
  {
   "cell_type": "markdown",
   "id": "029f8921",
   "metadata": {},
   "source": [
    "# DVOL Forecasting & Vol Trading — Research Notebook (skeleton)"
   ]
  },
  {
   "cell_type": "markdown",
   "id": "9b4ee9cc",
   "metadata": {},
   "source": [
    "## Config & Repro"
   ]
  },
  {
   "cell_type": "code",
   "execution_count": null,
   "id": "718a5746",
   "metadata": {},
   "outputs": [],
   "source": [
    "SEED = 7"
   ]
  },
  {
   "cell_type": "markdown",
   "id": "2a412026",
   "metadata": {},
   "source": [
    "## Data Contracts"
   ]
  }
 ],
 "metadata": {
  "jupytext": {
   "cell_metadata_filter": "-all",
   "formats": "ipynb,py:percent",
   "main_language": "python"
  }
 },
 "nbformat": 4,
 "nbformat_minor": 5
}
